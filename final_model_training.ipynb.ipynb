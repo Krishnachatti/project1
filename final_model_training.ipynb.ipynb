{
 "cells": [
  {
   "cell_type": "code",
   "execution_count": 2,
   "id": "2e0fb01c-e1a4-428f-bd04-f526cd63dfd4",
   "metadata": {},
   "outputs": [
    {
     "name": "stdout",
     "output_type": "stream",
     "text": [
      "--- Starting Final Keras Model Training ---\n",
      "Created dataset with 576 samples.\n",
      "\n",
      "--- Training Gender Model (Keras CNN) ---\n"
     ]
    },
    {
     "name": "stderr",
     "output_type": "stream",
     "text": [
      "C:\\Users\\SWAROOPA\\Desktop\\jupyter projects\\final_env\\lib\\site-packages\\keras\\src\\layers\\convolutional\\base_conv.py:113: UserWarning: Do not pass an `input_shape`/`input_dim` argument to a layer. When using Sequential models, prefer using an `Input(shape)` object as the first layer in the model instead.\n",
      "  super().__init__(activity_regularizer=activity_regularizer, **kwargs)\n",
      "WARNING:absl:You are saving your model as an HDF5 file via `model.save()` or `keras.saving.save_model(model)`. This file format is considered legacy. We recommend using instead the native Keras format, e.g. `model.save('my_model.keras')` or `keras.saving.save_model(model, 'my_model.keras')`. \n"
     ]
    },
    {
     "name": "stdout",
     "output_type": "stream",
     "text": [
      "Gender Accuracy: 97.41%\n",
      "\n",
      "--- Training Age Model (Keras CNN) ---\n"
     ]
    },
    {
     "name": "stderr",
     "output_type": "stream",
     "text": [
      "C:\\Users\\SWAROOPA\\Desktop\\jupyter projects\\final_env\\lib\\site-packages\\keras\\src\\layers\\convolutional\\base_conv.py:113: UserWarning: Do not pass an `input_shape`/`input_dim` argument to a layer. When using Sequential models, prefer using an `Input(shape)` object as the first layer in the model instead.\n",
      "  super().__init__(activity_regularizer=activity_regularizer, **kwargs)\n",
      "WARNING:absl:You are saving your model as an HDF5 file via `model.save()` or `keras.saving.save_model(model)`. This file format is considered legacy. We recommend using instead the native Keras format, e.g. `model.save('my_model.keras')` or `keras.saving.save_model(model, 'my_model.keras')`. \n"
     ]
    },
    {
     "name": "stdout",
     "output_type": "stream",
     "text": [
      "Age Accuracy: 91.38%\n",
      "\n",
      "--- Training Emotion Model (Keras CNN) ---\n"
     ]
    },
    {
     "name": "stderr",
     "output_type": "stream",
     "text": [
      "C:\\Users\\SWAROOPA\\Desktop\\jupyter projects\\final_env\\lib\\site-packages\\keras\\src\\layers\\convolutional\\base_conv.py:113: UserWarning: Do not pass an `input_shape`/`input_dim` argument to a layer. When using Sequential models, prefer using an `Input(shape)` object as the first layer in the model instead.\n",
      "  super().__init__(activity_regularizer=activity_regularizer, **kwargs)\n",
      "WARNING:absl:You are saving your model as an HDF5 file via `model.save()` or `keras.saving.save_model(model)`. This file format is considered legacy. We recommend using instead the native Keras format, e.g. `model.save('my_model.keras')` or `keras.saving.save_model(model, 'my_model.keras')`. \n"
     ]
    },
    {
     "name": "stdout",
     "output_type": "stream",
     "text": [
      "Emotion Accuracy: 85.34%\n"
     ]
    },
    {
     "data": {
      "text/plain": [
       "['saved_models/emotion_scaler.pkl']"
      ]
     },
     "execution_count": 2,
     "metadata": {},
     "output_type": "execute_result"
    }
   ],
   "source": [
    "# ===================================================================\n",
    "# THE ONE, TRUE, FINAL TRAINING NOTEBOOK\n",
    "# ===================================================================\n",
    "import os, librosa, numpy as np, pandas as pd, joblib\n",
    "from sklearn.model_selection import train_test_split\n",
    "from sklearn.preprocessing import LabelEncoder, StandardScaler\n",
    "from tensorflow.keras.models import Sequential\n",
    "from tensorflow.keras.layers import Conv1D, MaxPooling1D, Dropout, Flatten, Dense\n",
    "from tensorflow.keras.utils import to_categorical\n",
    "\n",
    "print(\"--- Starting Final Keras Model Training ---\")\n",
    "RAVDESS_PATH = r'C:\\Users\\SWAROOPA\\Desktop\\jupyter projects\\data\\RAVDESS_PATH'\n",
    "\n",
    "def extract_keras_features(file_path, max_pad_len=216):\n",
    "    try:\n",
    "        audio, sr = librosa.load(file_path, res_type='kaiser_fast', duration=3.0, sr=22050)\n",
    "        mfccs = librosa.feature.mfcc(y=audio, sr=sr, n_mfcc=40)\n",
    "        pad_width = max_pad_len - mfccs.shape[1]\n",
    "        mfccs = np.pad(mfccs, pad_width=((0,0),(0,pad_width)), mode='constant') if pad_width > 0 else mfccs[:,:max_pad_len]\n",
    "        return mfccs.T # Transpose to (timesteps, features)\n",
    "    except: return None\n",
    "\n",
    "if not os.path.exists('saved_models'): os.makedirs('saved_models')\n",
    "\n",
    "data = []\n",
    "# (Same data processing loop as before)\n",
    "senior_actors = [15, 16, 17, 18, 19, 20, 21, 22, 23, 24]\n",
    "emotion_dict = {'03': 'happy', '04': 'sad', '05': 'angry'}\n",
    "for actor_dir in os.listdir(RAVDESS_PATH):\n",
    "    actor_path = os.path.join(RAVDESS_PATH, actor_dir)\n",
    "    if os.path.isdir(actor_path):\n",
    "        for file in os.listdir(actor_path):\n",
    "            if file.endswith('.wav'):\n",
    "                try:\n",
    "                    parts = file.split('-'); actor_num = int(parts[-1].split('.')[0])\n",
    "                    gender = \"male\" if actor_num % 2 != 0 else \"female\"\n",
    "                    age = \"senior\" if actor_num in senior_actors else \"adult\"\n",
    "                    emotion = emotion_dict.get(parts[2])\n",
    "                    if emotion:\n",
    "                        feature = extract_keras_features(os.path.join(actor_path, file))\n",
    "                        if feature is not None: data.append([feature, gender, age, emotion])\n",
    "                except: continue\n",
    "df = pd.DataFrame(data, columns=['feature', 'gender', 'age', 'emotion'])\n",
    "print(f\"Created dataset with {len(df)} samples.\")\n",
    "\n",
    "# --- GENDER MODEL ---\n",
    "X = np.array(df['feature'].tolist())\n",
    "y = np.array(df['gender'].tolist())\n",
    "le_g = LabelEncoder(); y_g = le_g.fit_transform(y)\n",
    "X_train, X_test, y_train, y_test = train_test_split(X, y_g, test_size=0.2, random_state=42, stratify=y_g)\n",
    "\n",
    "# CORRECT SCALING\n",
    "scaler_g = StandardScaler()\n",
    "X_train_scaled = scaler_g.fit_transform(X_train.reshape(-1, X_train.shape[-1])).reshape(X_train.shape)\n",
    "X_test_scaled = scaler_g.transform(X_test.reshape(-1, X_test.shape[-1])).reshape(X_test.shape)\n",
    "print(\"\\n--- Training Gender Model (Keras CNN) ---\")\n",
    "model_g = Sequential([Conv1D(64, 5, padding='same', activation='relu', input_shape=X_train_scaled.shape[1:]), MaxPooling1D(4), Dropout(0.3), Flatten(), Dense(1, activation='sigmoid')])\n",
    "model_g.compile(optimizer='adam', loss='binary_crossentropy', metrics=['accuracy'])\n",
    "model_g.fit(X_train_scaled, y_train, epochs=30, batch_size=32, validation_split=0.1, verbose=0)\n",
    "loss, acc = model_g.evaluate(X_test_scaled, y_test, verbose=0); print(f\"Gender Accuracy: {acc*100:.2f}%\")\n",
    "model_g.save('saved_models/gender_model.h5')\n",
    "joblib.dump(le_g, 'saved_models/gender_label_encoder.pkl'); joblib.dump(scaler_g, 'saved_models/gender_scaler.pkl')\n",
    "\n",
    "# --- AGE MODEL ---\n",
    "df_male = df[df['gender'] == 'male']\n",
    "X = np.array(df_male['feature'].tolist()); y = np.array(df_male['age'].tolist())\n",
    "le_a = LabelEncoder(); y_a = to_categorical(le_a.fit_transform(y))\n",
    "X_train, X_test, y_train, y_test = train_test_split(X, y_a, test_size=0.2, random_state=42, stratify=y_a)\n",
    "scaler_a = StandardScaler()\n",
    "X_train_scaled = scaler_a.fit_transform(X_train.reshape(-1, X_train.shape[-1])).reshape(X_train.shape)\n",
    "X_test_scaled = scaler_a.transform(X_test.reshape(-1, X_test.shape[-1])).reshape(X_test.shape)\n",
    "print(\"\\n--- Training Age Model (Keras CNN) ---\")\n",
    "model_a = Sequential([Conv1D(64, 5, padding='same', activation='relu', input_shape=X_train_scaled.shape[1:]), MaxPooling1D(4), Dropout(0.3), Flatten(), Dense(y_a.shape[1], activation='softmax')])\n",
    "model_a.compile(optimizer='adam', loss='categorical_crossentropy', metrics=['accuracy'])\n",
    "model_a.fit(X_train_scaled, y_train, epochs=30, batch_size=32, validation_split=0.1, verbose=0)\n",
    "loss, acc = model_a.evaluate(X_test_scaled, y_test, verbose=0); print(f\"Age Accuracy: {acc*100:.2f}%\")\n",
    "model_a.save('saved_models/age_model.h5')\n",
    "joblib.dump(le_a, 'saved_models/age_label_encoder.pkl'); joblib.dump(scaler_a, 'saved_models/age_scaler.pkl')\n",
    "\n",
    "# --- EMOTION MODEL ---\n",
    "X = np.array(df['feature'].tolist()); y = np.array(df['emotion'].tolist())\n",
    "le_e = LabelEncoder(); y_e = to_categorical(le_e.fit_transform(y))\n",
    "X_train, X_test, y_train, y_test = train_test_split(X, y_e, test_size=0.2, random_state=42, stratify=y_e)\n",
    "scaler_e = StandardScaler()\n",
    "X_train_scaled = scaler_e.fit_transform(X_train.reshape(-1, X_train.shape[-1])).reshape(X_train.shape)\n",
    "X_test_scaled = scaler_e.transform(X_test.reshape(-1, X_test.shape[-1])).reshape(X_test.shape)\n",
    "print(\"\\n--- Training Emotion Model (Keras CNN) ---\")\n",
    "model_e = Sequential([Conv1D(64, 5, padding='same', activation='relu', input_shape=X_train_scaled.shape[1:]), MaxPooling1D(4), Dropout(0.3), Flatten(), Dense(y_e.shape[1], activation='softmax')])\n",
    "model_e.compile(optimizer='adam', loss='categorical_crossentropy', metrics=['accuracy'])\n",
    "model_e.fit(X_train_scaled, y_train, epochs=30, batch_size=32, validation_split=0.1, verbose=0)\n",
    "loss, acc = model_e.evaluate(X_test_scaled, y_test, verbose=0); print(f\"Emotion Accuracy: {acc*100:.2f}%\")\n",
    "model_e.save('saved_models/emotion_model.h5')\n",
    "joblib.dump(le_e, 'saved_models/emotion_label_encoder.pkl'); joblib.dump(scaler_e, 'saved_models/emotion_scaler.pkl')"
   ]
  },
  {
   "cell_type": "code",
   "execution_count": null,
   "id": "c8b24399-3de3-424c-964c-140e92cf0b0d",
   "metadata": {},
   "outputs": [],
   "source": []
  }
 ],
 "metadata": {
  "kernelspec": {
   "display_name": "final_project_env",
   "language": "python",
   "name": "final_project_env"
  },
  "language_info": {
   "codemirror_mode": {
    "name": "ipython",
    "version": 3
   },
   "file_extension": ".py",
   "mimetype": "text/x-python",
   "name": "python",
   "nbconvert_exporter": "python",
   "pygments_lexer": "ipython3",
   "version": "3.10.11"
  }
 },
 "nbformat": 4,
 "nbformat_minor": 5
}
